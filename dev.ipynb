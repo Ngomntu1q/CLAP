{
 "cells": [
  {
   "cell_type": "code",
   "execution_count": 1,
   "id": "27bf8dca",
   "metadata": {},
   "outputs": [
    {
     "name": "stdout",
     "output_type": "stream",
     "text": [
      "1.11.0\n",
      "0.11.0\n"
     ]
    }
   ],
   "source": [
    "import torch\n",
    "import torchaudio\n",
    "import torchaudio.functional as F\n",
    "import torchaudio.transforms as T\n",
    "\n",
    "print(torch.__version__)\n",
    "print(torchaudio.__version__)"
   ]
  },
  {
   "cell_type": "code",
   "execution_count": null,
   "id": "fcafb812",
   "metadata": {},
   "outputs": [],
   "source": []
  },
  {
   "cell_type": "code",
   "execution_count": 2,
   "id": "aab08868",
   "metadata": {},
   "outputs": [],
   "source": [
    "import math\n",
    "import time\n",
    "\n",
    "import librosa\n",
    "import matplotlib.pyplot as plt\n",
    "import pandas as pd"
   ]
  },
  {
   "cell_type": "code",
   "execution_count": 4,
   "id": "e81f3909",
   "metadata": {},
   "outputs": [],
   "source": [
    "DEFAULT_OFFSET = 201\n",
    "SWEEP_MAX_SAMPLE_RATE = 48000\n",
    "DEFAULT_LOWPASS_FILTER_WIDTH = 6\n",
    "DEFAULT_ROLLOFF = 0.99\n",
    "DEFAULT_RESAMPLING_METHOD = \"sinc_interpolation\""
   ]
  },
  {
   "cell_type": "code",
   "execution_count": 5,
   "id": "db6315e5",
   "metadata": {},
   "outputs": [],
   "source": [
    "def get_sine_sweep(sample_rate, offset=DEFAULT_OFFSET):\n",
    "    max_sweep_rate = sample_rate\n",
    "    freq = _get_log_freq(sample_rate, max_sweep_rate, offset)\n",
    "    delta = 2 * math.pi * freq / sample_rate\n",
    "    cummulative = torch.cumsum(delta, dim=0)\n",
    "    signal = torch.sin(cummulative).unsqueeze(dim=0)\n",
    "    return signal"
   ]
  },
  {
   "cell_type": "code",
   "execution_count": 6,
   "id": "e472e123",
   "metadata": {},
   "outputs": [],
   "source": [
    "configs = {\n",
    "    \"downsample (48 -> 44.1 kHz)\": [48000, 44100],\n",
    "    \"downsample (16 -> 8 kHz)\": [16000, 8000],\n",
    "    \"upsample (44.1 -> 48 kHz)\": [44100, 48000],\n",
    "    \"upsample (8 -> 16 kHz)\": [8000, 16000],\n",
    "}"
   ]
  },
  {
   "cell_type": "code",
   "execution_count": 8,
   "id": "0b70c069",
   "metadata": {},
   "outputs": [],
   "source": [
    "def _get_log_freq(sample_rate, max_sweep_rate, offset):\n",
    "    \"\"\"Get freqs evenly spaced out in log-scale, between [0, max_sweep_rate // 2]\n",
    "\n",
    "    offset is used to avoid negative infinity `log(offset + x)`.\n",
    "\n",
    "    \"\"\"\n",
    "    start, stop = math.log(offset), math.log(offset + max_sweep_rate // 2)\n",
    "    return torch.exp(torch.linspace(start, stop, sample_rate, dtype=torch.double)) - offset\n",
    "\n",
    "\n",
    "def _get_inverse_log_freq(freq, sample_rate, offset):\n",
    "    \"\"\"Find the time where the given frequency is given by _get_log_freq\"\"\"\n",
    "    half = sample_rate // 2\n",
    "    return sample_rate * (math.log(1 + freq / offset) / math.log(1 + half / offset))\n",
    "\n",
    "\n",
    "def _get_freq_ticks(sample_rate, offset, f_max):\n",
    "    # Given the original sample rate used for generating the sweep,\n",
    "    # find the x-axis value where the log-scale major frequency values fall in\n",
    "    time, freq = [], []\n",
    "    for exp in range(2, 5):\n",
    "        for v in range(1, 10):\n",
    "            f = v * 10 ** exp\n",
    "            if f < sample_rate // 2:\n",
    "                t = _get_inverse_log_freq(f, sample_rate, offset) / sample_rate\n",
    "                time.append(t)\n",
    "                freq.append(f)\n",
    "    t_max = _get_inverse_log_freq(f_max, sample_rate, offset) / sample_rate\n",
    "    time.append(t_max)\n",
    "    freq.append(f_max)\n",
    "    return time, freq\n"
   ]
  },
  {
   "cell_type": "code",
   "execution_count": 9,
   "id": "a0326ce1",
   "metadata": {},
   "outputs": [],
   "source": [
    "label = \"downsample (48 -> 44.1 kHz)\"\n",
    "times, rows = [], []\n",
    "sample_rate = configs[label][0]\n",
    "resample_rate = configs[label][1]\n",
    "waveform = get_sine_sweep(sample_rate)"
   ]
  },
  {
   "cell_type": "code",
   "execution_count": 16,
   "id": "13f8fe7a",
   "metadata": {},
   "outputs": [
    {
     "data": {
      "text/plain": [
       "torch.Size([1, 48000])"
      ]
     },
     "execution_count": 16,
     "metadata": {},
     "output_type": "execute_result"
    }
   ],
   "source": [
    "waveform.shape"
   ]
  },
  {
   "cell_type": "code",
   "execution_count": 17,
   "id": "c48544ea",
   "metadata": {},
   "outputs": [],
   "source": [
    "def reformat_to_tensor(nparray):\n",
    "    tensor = torch.tensor(nparray)\n",
    "    return tensor.unsqueeze(0)"
   ]
  },
  {
   "cell_type": "code",
   "execution_count": 22,
   "id": "692e3a40",
   "metadata": {},
   "outputs": [],
   "source": [
    "lowpass_filter_width=64,\n",
    "rolloff=0.9475937167399596,\n",
    "resampling_method=\"kaiser_window\",\n",
    "beta=14.769656459379492,"
   ]
  },
  {
   "cell_type": "code",
   "execution_count": 54,
   "id": "4d179dc9",
   "metadata": {},
   "outputs": [
    {
     "data": {
      "text/plain": [
       "torch.Size([10, 48000])"
      ]
     },
     "execution_count": 54,
     "metadata": {},
     "output_type": "execute_result"
    }
   ],
   "source": [
    "waveform.repeat(10,1).shape"
   ]
  },
  {
   "cell_type": "code",
   "execution_count": 71,
   "id": "f2fd051a",
   "metadata": {},
   "outputs": [
    {
     "data": {
      "text/plain": [
       "torch.Size([32000])"
      ]
     },
     "execution_count": 71,
     "metadata": {},
     "output_type": "execute_result"
    }
   ],
   "source": [
    "waveform[0][:32000].shape"
   ]
  },
  {
   "cell_type": "code",
   "execution_count": 73,
   "id": "8fb0ecbf",
   "metadata": {},
   "outputs": [],
   "source": [
    "x = F.resample(\n",
    "    waveform.repeat(32,1),\n",
    "    sample_rate,\n",
    "    resample_rate,\n",
    "    lowpass_filter_width=64,\n",
    "    rolloff=0.9475937167399596,\n",
    "    resampling_method=\"kaiser_window\",\n",
    ").squeeze()"
   ]
  },
  {
   "cell_type": "code",
   "execution_count": 75,
   "id": "ca95f77f",
   "metadata": {},
   "outputs": [
    {
     "data": {
      "text/plain": [
       "tensor([ 4.3050e-08,  2.9573e-06,  9.1035e-06,  ..., -1.9602e-01,\n",
       "         2.4939e-01, -3.2606e-01], dtype=torch.float64)"
      ]
     },
     "execution_count": 75,
     "metadata": {},
     "output_type": "execute_result"
    }
   ],
   "source": [
    "x[0]"
   ]
  },
  {
   "cell_type": "code",
   "execution_count": 76,
   "id": "4927e8eb",
   "metadata": {},
   "outputs": [
    {
     "data": {
      "text/plain": [
       "tensor([ 4.3050e-08,  2.9573e-06,  9.1035e-06,  ..., -1.9602e-01,\n",
       "         2.4939e-01, -3.2606e-01], dtype=torch.float64)"
      ]
     },
     "execution_count": 76,
     "metadata": {},
     "output_type": "execute_result"
    }
   ],
   "source": [
    "x[1]"
   ]
  },
  {
   "cell_type": "code",
   "execution_count": 44,
   "id": "3488c570",
   "metadata": {},
   "outputs": [
    {
     "name": "stdout",
     "output_type": "stream",
     "text": [
      "CPU times: user 1min 23s, sys: 334 ms, total: 1min 24s\n",
      "Wall time: 18.8 s\n"
     ]
    }
   ],
   "source": [
    "%%time\n",
    "for i in range(1):\n",
    "    resampler = T.Resample(\n",
    "        sample_rate,\n",
    "        resample_rate,\n",
    "        lowpass_filter_width=64,\n",
    "        rolloff=0.9475937167399596,\n",
    "        resampling_method=\"kaiser_window\",\n",
    "        dtype=waveform.dtype,\n",
    "    )\n",
    "    resampler(waveform)"
   ]
  },
  {
   "cell_type": "code",
   "execution_count": 49,
   "id": "7f73bd62",
   "metadata": {},
   "outputs": [
    {
     "name": "stdout",
     "output_type": "stream",
     "text": [
      "(44100,)\n"
     ]
    }
   ],
   "source": [
    "\n",
    "print(librosa.resample(waveform_np, orig_sr=sample_rate, target_sr=resample_rate, res_type=\"kaiser_best\").shape)"
   ]
  },
  {
   "cell_type": "code",
   "execution_count": 19,
   "id": "d6c5dd5f",
   "metadata": {},
   "outputs": [
    {
     "data": {
      "text/plain": [
       "torch.Size([1, 48000])"
      ]
     },
     "execution_count": 19,
     "metadata": {},
     "output_type": "execute_result"
    }
   ],
   "source": [
    "reformat_to_tensor(waveform_np).shape"
   ]
  },
  {
   "cell_type": "code",
   "execution_count": 12,
   "id": "23d6828d",
   "metadata": {},
   "outputs": [],
   "source": [
    "waveform_np = waveform.squeeze().numpy()"
   ]
  },
  {
   "cell_type": "code",
   "execution_count": 14,
   "id": "01216d45",
   "metadata": {},
   "outputs": [
    {
     "data": {
      "text/plain": [
       "(48000,)"
      ]
     },
     "execution_count": 14,
     "metadata": {},
     "output_type": "execute_result"
    }
   ],
   "source": [
    "waveform_np.shape"
   ]
  },
  {
   "cell_type": "code",
   "execution_count": 24,
   "id": "3439c69d",
   "metadata": {},
   "outputs": [],
   "source": [
    "def benchmark_resample(\n",
    "    method,\n",
    "    waveform,\n",
    "    sample_rate,\n",
    "    resample_rate,\n",
    "    lowpass_filter_width=DEFAULT_LOWPASS_FILTER_WIDTH,\n",
    "    rolloff=DEFAULT_ROLLOFF,\n",
    "    resampling_method=DEFAULT_RESAMPLING_METHOD,\n",
    "    beta=None,\n",
    "    librosa_type=None,\n",
    "    iters=5,\n",
    "):\n",
    "    if method == \"functional\":\n",
    "        begin = time.time()\n",
    "        for _ in range(iters):\n",
    "            F.resample(\n",
    "                waveform,\n",
    "                sample_rate,\n",
    "                resample_rate,\n",
    "                lowpass_filter_width=lowpass_filter_width,\n",
    "                rolloff=rolloff,\n",
    "                resampling_method=resampling_method,\n",
    "            )\n",
    "        elapsed = time.time() - begin\n",
    "        return elapsed / iters\n",
    "    elif method == \"transforms\":\n",
    "        resampler = T.Resample(\n",
    "            sample_rate,\n",
    "            resample_rate,\n",
    "            lowpass_filter_width=lowpass_filter_width,\n",
    "            rolloff=rolloff,\n",
    "            resampling_method=resampling_method,\n",
    "            dtype=waveform.dtype,\n",
    "        )\n",
    "        begin = time.time()\n",
    "        for _ in range(iters):\n",
    "            resampler(waveform)\n",
    "        elapsed = time.time() - begin\n",
    "        return elapsed / iters\n",
    "    elif method == \"librosa\":\n",
    "        waveform_np = waveform.squeeze().numpy()\n",
    "        begin = time.time()\n",
    "        for _ in range(iters):\n",
    "            librosa.resample(waveform_np, orig_sr=sample_rate, target_sr=resample_rate, res_type=librosa_type)\n",
    "        elapsed = time.time() - begin\n",
    "        return elapsed / iters"
   ]
  },
  {
   "cell_type": "code",
   "execution_count": 25,
   "id": "99ed16e9",
   "metadata": {},
   "outputs": [
    {
     "data": {
      "text/plain": [
       "0.02197718620300293"
      ]
     },
     "execution_count": 25,
     "metadata": {},
     "output_type": "execute_result"
    }
   ],
   "source": [
    "benchmark_resample(\n",
    "        \"functional\",\n",
    "        waveform,\n",
    "        sample_rate,\n",
    "        resample_rate,\n",
    "        lowpass_filter_width=64,\n",
    "        rolloff=0.9475937167399596,\n",
    "        resampling_method=\"kaiser_window\",\n",
    "        beta=14.769656459379492,\n",
    "    )"
   ]
  },
  {
   "cell_type": "code",
   "execution_count": null,
   "id": "215a89d4",
   "metadata": {},
   "outputs": [],
   "source": []
  }
 ],
 "metadata": {
  "kernelspec": {
   "display_name": "Python3.10",
   "language": "python",
   "name": "py310"
  },
  "language_info": {
   "codemirror_mode": {
    "name": "ipython",
    "version": 3
   },
   "file_extension": ".py",
   "mimetype": "text/x-python",
   "name": "python",
   "nbconvert_exporter": "python",
   "pygments_lexer": "ipython3",
   "version": "3.10.0"
  }
 },
 "nbformat": 4,
 "nbformat_minor": 5
}
